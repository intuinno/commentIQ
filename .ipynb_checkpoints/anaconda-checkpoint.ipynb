{
 "metadata": {
  "name": "",
  "signature": "sha256:4fb6a49065013947c70d1bc743ab131c4dba41ce5dbabe2056d611cc3a7c1a4d"
 },
 "nbformat": 3,
 "nbformat_minor": 0,
 "worksheets": []
}